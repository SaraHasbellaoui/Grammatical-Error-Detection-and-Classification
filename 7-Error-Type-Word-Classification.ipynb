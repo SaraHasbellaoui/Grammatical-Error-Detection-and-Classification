{
 "cells": [
  {
   "cell_type": "markdown",
   "metadata": {},
   "source": [
    "## Prepare & clean the data"
   ]
  },
  {
   "cell_type": "code",
   "execution_count": 1,
   "metadata": {},
   "outputs": [],
   "source": [
    "import re\n",
    "\n",
    "# Extract error types from: \"conll14st-preprocessed.conll.ann\" file\n",
    "# Separate each word of a particular error type in its own list.\n",
    "l1=[]\n",
    "l4=[]\n",
    "l5=[]\n",
    "l6=[]\n",
    "l7=[]\n",
    "l11=[]\n",
    "l14=[]\n",
    "def extract_err_type(colnn_ann):\n",
    "    f = open(colnn_ann, 'r')\n",
    "    for line in f:\n",
    "        parts = line.split()\n",
    "        if(len(parts)>0):\n",
    "            if(line[0:6]==\"<TYPE>\"):\n",
    "                type_ = line[6:len(parts[0])-7]\n",
    "            elif(line[0:12]==\"<CORRECTION>\"):\n",
    "                corrected_word = line[12:len(line)-14] \n",
    "                if type_ ==\"Vt\":\n",
    "                    \"Vt\", line[12:len(line)-14]\n",
    "                    l1.append(line[12:len(line)-14])   \n",
    "                if type_ ==\"Vform\":\n",
    "                    l4.append(line[12:len(line)-14])\n",
    "                if type_ ==\"SVA\":\n",
    "                    l5.append(line[12:len(line)-14])\n",
    "                if type_ ==\"ArtOrDet\":\n",
    "                    l6.append(line[12:len(line)-14])\n",
    "                if type_ ==\"Nn\":\n",
    "                    l7.append(line[12:len(line)-14])\n",
    "                if type_ ==\"Prep\":\n",
    "                    l11.append(line[12:len(line)-14])\n",
    "                if type_ ==\"Wform\":\n",
    "                    l14.append(line[12:len(line)-14])"
   ]
  },
  {
   "cell_type": "code",
   "execution_count": 2,
   "metadata": {},
   "outputs": [],
   "source": [
    "# Pass in to the function, the path to conll14st-preprocessed.conll.ann in your system\n",
    "extract_err_type(\"/Users/highsierra/Tech-Skills/Labortory/ML-Fundamentals/error_types_conll14/conll14st-preprocessed.conll.ann\")"
   ]
  },
  {
   "cell_type": "code",
   "execution_count": 3,
   "metadata": {},
   "outputs": [],
   "source": [
    "# Create a corresponding list containing the error type of each word\n",
    "# Map between each word and its error type\n",
    "ll1=[]\n",
    "for i in range(len(l1)):\n",
    "    ll1.append('Vt')\n",
    "\n",
    "ll4=[]\n",
    "for i in range(len(l4)):\n",
    "    ll4.append('Vform')\n",
    "\n",
    "ll5=[]\n",
    "for i in range(len(l5)):\n",
    "    ll5.append('SVA')\n",
    "\n",
    "ll6=[]\n",
    "for i in range(len(l6)):\n",
    "    ll6.append('ArtOrDet')\n",
    "\n",
    "ll7=[]\n",
    "for i in range(len(l7)):\n",
    "    ll7.append('Nn')\n",
    "\n",
    "ll11=[]\n",
    "for i in range(len(l11)):\n",
    "    ll11.append('Prep')\n",
    "\n",
    "\n",
    "ll14=[]\n",
    "for i in range(len(l14)):\n",
    "    ll14.append('Wform')"
   ]
  },
  {
   "cell_type": "code",
   "execution_count": 4,
   "metadata": {},
   "outputs": [],
   "source": [
    "# Separate the words (input) from the error types (target)\n",
    "import itertools\n",
    "\n",
    "targets = list(itertools.chain(ll1, ll4, ll5, ll6, ll7, ll11, ll14))\n",
    "words = list(itertools.chain(l1, l4, l5, l6, l7, l11, l14))"
   ]
  },
  {
   "cell_type": "markdown",
   "metadata": {},
   "source": [
    "####  P.S. Up to this point, only the representations of words have been used. No further feature engineering has been done."
   ]
  },
  {
   "cell_type": "markdown",
   "metadata": {},
   "source": [
    "## Encode the data"
   ]
  },
  {
   "cell_type": "code",
   "execution_count": 5,
   "metadata": {},
   "outputs": [
    {
     "data": {
      "text/plain": [
       "array(['ArtOrDet', 'Nn', 'Prep', 'SVA', 'Vform', 'Vt', 'Wform'],\n",
       "      dtype='<U8')"
      ]
     },
     "execution_count": 5,
     "metadata": {},
     "output_type": "execute_result"
    }
   ],
   "source": [
    "# Encode the target vector in binary \n",
    "\n",
    "from sklearn import preprocessing\n",
    "lb = preprocessing.LabelBinarizer()\n",
    "ybin = lb.fit(targets)\n",
    "lb.classes_"
   ]
  },
  {
   "cell_type": "code",
   "execution_count": 6,
   "metadata": {},
   "outputs": [
    {
     "name": "stdout",
     "output_type": "stream",
     "text": [
      "[[0 0 0 ... 0 1 0]\n",
      " [0 0 0 ... 0 1 0]\n",
      " [0 0 0 ... 0 1 0]\n",
      " ...\n",
      " [0 0 0 ... 0 0 1]\n",
      " [0 0 0 ... 0 0 1]\n",
      " [0 0 0 ... 0 0 1]]\n",
      "(21138, 7)\n"
     ]
    }
   ],
   "source": [
    "y = lb.transform(targets)\n",
    "print(y)\n",
    "print(y.shape)"
   ]
  },
  {
   "cell_type": "code",
   "execution_count": 7,
   "metadata": {},
   "outputs": [
    {
     "name": "stderr",
     "output_type": "stream",
     "text": [
      "Using TensorFlow backend.\n"
     ]
    }
   ],
   "source": [
    "# Encode the input using glove embeddings   \n",
    "\n",
    "from zeugma.embeddings import EmbeddingTransformer\n",
    "\n",
    "glove = EmbeddingTransformer('glove') \n",
    "X = glove.transform(words)"
   ]
  },
  {
   "cell_type": "code",
   "execution_count": 8,
   "metadata": {},
   "outputs": [
    {
     "name": "stdout",
     "output_type": "stream",
     "text": [
      "[[ 9.4602001e-04 -8.4354997e-02  1.9994000e-01 ...  2.7858001e-01\n",
      "   2.0168000e-01 -7.1859002e-01]\n",
      " [ 5.7466000e-02  1.7890000e-01 -6.2778002e-01 ... -7.5557001e-02\n",
      "   2.4191999e-01  2.2470001e-03]\n",
      " [-5.2309000e-01 -6.8026000e-01 -4.6072000e-01 ...  5.2221000e-01\n",
      "   7.0643997e-01 -2.5231999e-01]\n",
      " ...\n",
      " [ 5.6629997e-01  2.5286999e-01 -1.1373000e+00 ...  5.4163003e-01\n",
      "  -1.7024000e+00 -4.1539001e-01]\n",
      " [ 3.4362650e-01  9.2356995e-02 -6.9733500e-01 ... -3.7974998e-02\n",
      "  -1.1478500e+00 -2.5225499e-01]\n",
      " [ 1.0357000e-01  5.4285997e-01 -8.8192999e-01 ... -4.9219000e-01\n",
      "   1.3172001e-01 -8.6390001e-01]]\n",
      "(21138, 25)\n"
     ]
    }
   ],
   "source": [
    "print(X)\n",
    "print(X.shape)"
   ]
  },
  {
   "cell_type": "markdown",
   "metadata": {},
   "source": [
    "## Create training & testing sets"
   ]
  },
  {
   "cell_type": "code",
   "execution_count": 9,
   "metadata": {},
   "outputs": [],
   "source": [
    "from sklearn.model_selection import train_test_split\n",
    "\n",
    "X_train, X_test, y_train, y_test = train_test_split(X, y, test_size=0.2, random_state=0)"
   ]
  },
  {
   "cell_type": "markdown",
   "metadata": {},
   "source": [
    "## Train the model"
   ]
  },
  {
   "cell_type": "code",
   "execution_count": 10,
   "metadata": {},
   "outputs": [
    {
     "data": {
      "text/plain": [
       "MLPClassifier(activation='relu', alpha=0.0001, batch_size='auto', beta_1=0.9,\n",
       "              beta_2=0.999, early_stopping=False, epsilon=1e-08,\n",
       "              hidden_layer_sizes=(300, 200, 100), learning_rate='constant',\n",
       "              learning_rate_init=0.001, max_fun=15000, max_iter=500,\n",
       "              momentum=0.9, n_iter_no_change=10, nesterovs_momentum=True,\n",
       "              power_t=0.5, random_state=21, shuffle=True, solver='adam',\n",
       "              tol=1e-09, validation_fraction=0.1, verbose=False,\n",
       "              warm_start=False)"
      ]
     },
     "execution_count": 10,
     "metadata": {},
     "output_type": "execute_result"
    }
   ],
   "source": [
    "from sklearn.neural_network import MLPClassifier\n",
    "\n",
    "clf = MLPClassifier(hidden_layer_sizes=(300,200,100), max_iter=500, activation = 'relu', solver='adam', random_state=21, tol=0.000000001)\n",
    "clf.fit(X_train, y_train) "
   ]
  },
  {
   "cell_type": "markdown",
   "metadata": {},
   "source": [
    "## Make predictions"
   ]
  },
  {
   "cell_type": "code",
   "execution_count": 11,
   "metadata": {},
   "outputs": [],
   "source": [
    "y_pred = clf.predict(X_test)"
   ]
  },
  {
   "cell_type": "markdown",
   "metadata": {},
   "source": [
    "## Evaluate the model"
   ]
  },
  {
   "cell_type": "code",
   "execution_count": 12,
   "metadata": {},
   "outputs": [
    {
     "name": "stdout",
     "output_type": "stream",
     "text": [
      "              precision    recall  f1-score   support\n",
      "\n",
      "    ArtOrDet       0.78      0.95      0.86      1319\n",
      "          Nn       0.83      0.75      0.79       760\n",
      "        Prep       0.94      0.68      0.79       496\n",
      "         SVA       0.51      0.35      0.42       300\n",
      "       Vform       0.46      0.29      0.35       266\n",
      "          Vt       0.65      0.57      0.61       654\n",
      "       Wform       0.62      0.45      0.52       433\n",
      "\n",
      "   micro avg       0.74      0.69      0.72      4228\n",
      "   macro avg       0.68      0.58      0.62      4228\n",
      "weighted avg       0.73      0.69      0.70      4228\n",
      " samples avg       0.69      0.69      0.69      4228\n",
      "\n",
      "0.6837748344370861\n"
     ]
    },
    {
     "name": "stderr",
     "output_type": "stream",
     "text": [
      "/opt/miniconda3/envs/tensorflow1/lib/python3.7/site-packages/sklearn/metrics/_classification.py:1272: UndefinedMetricWarning: Precision and F-score are ill-defined and being set to 0.0 in samples with no predicted labels. Use `zero_division` parameter to control this behavior.\n",
      "  _warn_prf(average, modifier, msg_start, len(result))\n"
     ]
    }
   ],
   "source": [
    "from sklearn.metrics import classification_report, confusion_matrix, accuracy_score\n",
    "\n",
    "\n",
    "print(classification_report(y_test,y_pred,target_names=lb.classes_))\n",
    "print(accuracy_score(y_test, y_pred))"
   ]
  }
 ],
 "metadata": {
  "kernelspec": {
   "display_name": "Python 3.7 (tensorflow1)",
   "language": "python",
   "name": "tensorflow1"
  },
  "language_info": {
   "codemirror_mode": {
    "name": "ipython",
    "version": 3
   },
   "file_extension": ".py",
   "mimetype": "text/x-python",
   "name": "python",
   "nbconvert_exporter": "python",
   "pygments_lexer": "ipython3",
   "version": "3.7.7"
  }
 },
 "nbformat": 4,
 "nbformat_minor": 4
}
