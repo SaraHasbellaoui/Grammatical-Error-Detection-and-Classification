{
 "cells": [
  {
   "cell_type": "markdown",
   "metadata": {},
   "source": [
    "## Prepare & clean the data"
   ]
  },
  {
   "cell_type": "code",
   "execution_count": 1,
   "metadata": {},
   "outputs": [],
   "source": [
    "# Extract error types from: \"conll14st-preprocessed.conll.ann\" file\n",
    "# Separate each word of a particular error type in its own list.\n",
    "l1=[]\n",
    "l4=[]\n",
    "l5=[]\n",
    "l6=[]\n",
    "l7=[]\n",
    "l11=[]\n",
    "l14=[]\n",
    "def extract_err_type(colnn_ann):\n",
    "    f = open(colnn_ann, 'r')\n",
    "    for line in f:\n",
    "        parts = line.split()\n",
    "        if(len(parts)>0):\n",
    "            if(line[0:6]==\"<TYPE>\"):\n",
    "                type_ = line[6:len(parts[0])-7]\n",
    "            elif(line[0:12]==\"<CORRECTION>\"):\n",
    "                corrected_word = line[12:len(line)-14] \n",
    "                if type_ ==\"Vt\":\n",
    "                    l1.append(line[12:len(line)-14])   \n",
    "                if type_ ==\"Vform\":\n",
    "                    l4.append(line[12:len(line)-14])\n",
    "                if type_ ==\"SVA\":\n",
    "                    l5.append(line[12:len(line)-14])\n",
    "                if type_ ==\"ArtOrDet\":\n",
    "                    l6.append(line[12:len(line)-14])\n",
    "                if type_ ==\"Nn\":\n",
    "                    l7.append(line[12:len(line)-14])\n",
    "                if type_ ==\"Prep\":\n",
    "                    l11.append(line[12:len(line)-14])\n",
    "                if type_ ==\"Wform\":\n",
    "                    l14.append(line[12:len(line)-14])\n",
    "    return \"Done\""
   ]
  },
  {
   "cell_type": "code",
   "execution_count": 2,
   "metadata": {},
   "outputs": [
    {
     "data": {
      "text/plain": [
       "'Done'"
      ]
     },
     "execution_count": 2,
     "metadata": {},
     "output_type": "execute_result"
    }
   ],
   "source": [
    "# Pass in to the function, the path to conll14st-preprocessed.conll.ann in your system\n",
    "extract_err_type(\"/Users/highsierra/Tech-Skills/Labortory/ML-Fundamentals/error_types_conll14/conll14st-preprocessed.conll.ann\")"
   ]
  },
  {
   "cell_type": "code",
   "execution_count": 3,
   "metadata": {},
   "outputs": [],
   "source": [
    "# Create a corresponding list containing the error type of each word\n",
    "# Map between each word and its error type\n",
    "ll1=[]\n",
    "for i in range(len(l1)):\n",
    "    ll1.append('Vt')\n",
    "\n",
    "ll4=[]\n",
    "for i in range(len(l4)):\n",
    "    ll4.append('Vform')\n",
    "\n",
    "ll5=[]\n",
    "for i in range(len(l5)):\n",
    "    ll5.append('SVA')\n",
    "\n",
    "ll6=[]\n",
    "for i in range(len(l6)):\n",
    "    ll6.append('ArtOrDet')\n",
    "\n",
    "ll7=[]\n",
    "for i in range(len(l7)):\n",
    "    ll7.append('Nn')\n",
    "\n",
    "ll11=[]\n",
    "for i in range(len(l11)):\n",
    "    ll11.append('Prep')\n",
    "\n",
    "\n",
    "ll14=[]\n",
    "for i in range(len(l14)):\n",
    "    ll14.append('Wform')"
   ]
  },
  {
   "cell_type": "code",
   "execution_count": 4,
   "metadata": {},
   "outputs": [],
   "source": [
    "# Separate the words (input) from the error types (target)\n",
    "import itertools\n",
    "\n",
    "targets = list(itertools.chain(ll1, ll4, ll5, ll6, ll7, ll11, ll14))\n",
    "words = list(itertools.chain(l1, l4, l5, l6, l7, l11, l14))"
   ]
  },
  {
   "cell_type": "markdown",
   "metadata": {},
   "source": [
    "####  P.S. Up to this point, only the representations of words have been used. No further feature engineering has been done."
   ]
  },
  {
   "cell_type": "markdown",
   "metadata": {},
   "source": [
    "#### This separates sentences from annotations without attention to the error type\n",
    "\n",
    "import re\n",
    "sen = []\n",
    "errSen = []\n",
    "\n",
    "\n",
    "def extract_err_sen(colnn_ann):\n",
    "    f = open(colnn_ann, 'r')\n",
    "    for line in f:\n",
    "        sen.append(line)\n",
    "\n",
    "    for i in range(len(sen)):\n",
    "        if sen[i][0] == 'A' and sen[i-1][0] == 'S':\n",
    "            errSen.append(sen[i-1])\n",
    "    return \"Done\"\n",
    "\n",
    "\n",
    "extract_err_sen(\"/Users/highsierra/conll14st-preprocessed.m2\")\n",
    "\n",
    "\n",
    "documents = []\n",
    "for sen in range(0, len(errSen)):\n",
    "    # Remove all the special characters\n",
    "    document = re.sub(r\"[^a-zA-Z/'/]\", ' ', str(errSen[sen]))\n",
    "\n",
    "    # Substituting multiple spaces with single space\n",
    "    document = re.sub(r'\\s+', ' ', document, flags=re.I)\n",
    "\n",
    "    # Removing prefixed 'S' and ending with 'n'\n",
    "    document = re.sub(r\"^S\", '', document)\n",
    "    document = re.sub(r\"\\.\\n\", '', document)\n",
    "\n",
    "    # Removing trailling space\n",
    "    document = re.sub(r'^\\s', '', document, flags=re.I)\n",
    "    document = re.sub(r'\\s$', '', document, flags=re.I)\n",
    "\n",
    "    documents.append(document)\n",
    "    \n",
    "print(len(documents))\n",
    "print(documents[0])\n",
    "\n",
    "texts = []\n",
    "texts = documents[0:21138]\n",
    "print(len(texts))\n"
   ]
  },
  {
   "cell_type": "code",
   "execution_count": 5,
   "metadata": {},
   "outputs": [
    {
     "name": "stdout",
     "output_type": "stream",
     "text": [
      "The solution can be obtain by using technology to achieve a better usage of space that we have and resolve the problems in lands that inhospitable such as desserts and swamps\n",
      "14046\n"
     ]
    }
   ],
   "source": [
    "import re\n",
    "\n",
    "with open(\"/Users/highsierra/conll14st-preprocessed.m2\") as f:\n",
    "    lines = f.read()\n",
    "tests = lines.split(\"\\n\\n\")\n",
    "\n",
    "documents = []\n",
    "doc = []\n",
    "\n",
    "for sen in range(0, len(tests)):\n",
    "    if re.search(\"Vt\", str(tests[sen])) or re.search(\"Vform\", str(tests[sen])) or re.search(\"SVA\", str(tests[sen])) or re.search(\"ArtOrDet\", str(tests[sen])) or re.search(\"Nn\", str(tests[sen])) or re.search(\"Prep\", str(tests[sen])) or re.search(\"Wform\", str(tests[sen])):\n",
    "        documents.append(str(tests[sen]))\n",
    "        doc += str(tests[sen]).split(\".\\n\")\n",
    "\n",
    "cln = []\n",
    "for k in range(0, len(doc)):\n",
    "    if doc[k][0] == 'S':\n",
    "        cln.append(doc[k])\n",
    "\n",
    "errSen = []\n",
    "for sen in range(0, len(cln)):\n",
    "    # Remove all the special characters\n",
    "    err = re.sub(r\"[^a-zA-Z/'/]\", ' ', str(cln[sen]))\n",
    "\n",
    "    # Substituting multiple spaces with single space\n",
    "    err = re.sub(r'\\s+', ' ', err, flags=re.I)\n",
    "\n",
    "    # Removing prefixed 'S' and ending with 'n'\n",
    "    err = re.sub(r\"^S\", '', err)\n",
    "    err = re.sub(r\"\\.\\n\", '', err)\n",
    "\n",
    "    # Removing trailling space\n",
    "    err = re.sub(r'^\\s', '', err, flags=re.I)\n",
    "    err = re.sub(r'\\s$', '', err, flags=re.I)\n",
    "\n",
    "    errSen.append(err)\n",
    "print(errSen[1])\n",
    "print(len(errSen))\n"
   ]
  },
  {
   "cell_type": "code",
   "execution_count": 6,
   "metadata": {},
   "outputs": [
    {
     "name": "stdout",
     "output_type": "stream",
     "text": [
      "(244814, 4)\n"
     ]
    }
   ],
   "source": [
    "import spacy\n",
    "import numpy as np\n",
    "\n",
    "nlp = spacy.load(\"en_core_web_sm\")\n",
    "l1=[]\n",
    "l2=[]\n",
    "\n",
    "for text in errSen:\n",
    "        doc = nlp(text)\n",
    "        l1 = list([token.text, token.pos_, token.tag_, token.dep_] for token in doc if token.text in words)\n",
    "        l2.extend(l1)\n",
    "        arr = np.array(l2)\n",
    "\n",
    "print(arr.shape)"
   ]
  },
  {
   "cell_type": "markdown",
   "metadata": {},
   "source": [
    "## Encode the data"
   ]
  },
  {
   "cell_type": "code",
   "execution_count": 7,
   "metadata": {},
   "outputs": [
    {
     "name": "stdout",
     "output_type": "stream",
     "text": [
      "[[0. 0. 0. ... 0. 0. 0.]\n",
      " [0. 0. 0. ... 0. 0. 0.]\n",
      " [0. 0. 0. ... 0. 0. 0.]\n",
      " ...\n",
      " [0. 0. 0. ... 0. 0. 0.]\n",
      " [0. 0. 0. ... 0. 0. 0.]\n",
      " [0. 0. 0. ... 0. 0. 0.]]\n",
      "(244814, 2553)\n"
     ]
    }
   ],
   "source": [
    "from sklearn.compose import ColumnTransformer\n",
    "from sklearn.preprocessing import StandardScaler, OneHotEncoder\n",
    "\n",
    "\n",
    "transformer = ColumnTransformer(transformers=[('cat', OneHotEncoder(), [0, 1, 2, 3])], remainder='passthrough')\n",
    "\n",
    "arr = transformer.fit_transform(arr)\n",
    "print(arr.toarray())\n",
    "print(arr.toarray().shape)"
   ]
  },
  {
   "cell_type": "code",
   "execution_count": 8,
   "metadata": {},
   "outputs": [
    {
     "name": "stdout",
     "output_type": "stream",
     "text": [
      "21138\n"
     ]
    }
   ],
   "source": [
    "print(len(words))"
   ]
  },
  {
   "cell_type": "code",
   "execution_count": 9,
   "metadata": {},
   "outputs": [
    {
     "name": "stderr",
     "output_type": "stream",
     "text": [
      "Using TensorFlow backend.\n"
     ]
    }
   ],
   "source": [
    "# Encode the input using glove embeddings   \n",
    "\n",
    "from zeugma.embeddings import EmbeddingTransformer\n",
    "\n",
    "glove = EmbeddingTransformer('glove') \n",
    "X = glove.transform(words)"
   ]
  },
  {
   "cell_type": "code",
   "execution_count": 10,
   "metadata": {},
   "outputs": [
    {
     "name": "stdout",
     "output_type": "stream",
     "text": [
      "[[ 9.4602001e-04 -8.4354997e-02  1.9994000e-01 ...  2.7858001e-01\n",
      "   2.0168000e-01 -7.1859002e-01]\n",
      " [ 5.7466000e-02  1.7890000e-01 -6.2778002e-01 ... -7.5557001e-02\n",
      "   2.4191999e-01  2.2470001e-03]\n",
      " [-5.2309000e-01 -6.8026000e-01 -4.6072000e-01 ...  5.2221000e-01\n",
      "   7.0643997e-01 -2.5231999e-01]\n",
      " ...\n",
      " [ 5.6629997e-01  2.5286999e-01 -1.1373000e+00 ...  5.4163003e-01\n",
      "  -1.7024000e+00 -4.1539001e-01]\n",
      " [ 3.4362650e-01  9.2356995e-02 -6.9733500e-01 ... -3.7974998e-02\n",
      "  -1.1478500e+00 -2.5225499e-01]\n",
      " [ 1.0357000e-01  5.4285997e-01 -8.8192999e-01 ... -4.9219000e-01\n",
      "   1.3172001e-01 -8.6390001e-01]]\n",
      "(21138, 25)\n"
     ]
    }
   ],
   "source": [
    "print(X)\n",
    "print(X.shape)"
   ]
  },
  {
   "cell_type": "code",
   "execution_count": 11,
   "metadata": {},
   "outputs": [
    {
     "name": "stdout",
     "output_type": "stream",
     "text": [
      "21138\n"
     ]
    }
   ],
   "source": [
    "print(len(targets))"
   ]
  },
  {
   "cell_type": "code",
   "execution_count": 12,
   "metadata": {},
   "outputs": [
    {
     "name": "stdout",
     "output_type": "stream",
     "text": [
      "float64\n",
      "979256.0\n"
     ]
    }
   ],
   "source": [
    "print(arr.toarray().dtype)\n",
    "print(np.sum(arr))"
   ]
  },
  {
   "cell_type": "code",
   "execution_count": 13,
   "metadata": {},
   "outputs": [
    {
     "name": "stdout",
     "output_type": "stream",
     "text": [
      "[[0. 0. 0. ... 0. 0. 0.]\n",
      " [0. 0. 0. ... 0. 0. 0.]\n",
      " [0. 0. 0. ... 0. 0. 0.]\n",
      " [0. 0. 0. ... 0. 0. 0.]\n",
      " [0. 0. 0. ... 0. 0. 0.]\n",
      " [0. 0. 0. ... 0. 0. 0.]]\n",
      "(6, 104168357)\n",
      "979256.0\n"
     ]
    }
   ],
   "source": [
    "arr2d= np.reshape(arr, (6, -1))\n",
    "print(arr2d.toarray())\n",
    "print(arr2d.shape)\n",
    "print(np.sum(arr2d)) "
   ]
  },
  {
   "cell_type": "code",
   "execution_count": 14,
   "metadata": {},
   "outputs": [],
   "source": [
    "wall = np.zeros((6,104171587),dtype=np.float64) "
   ]
  },
  {
   "cell_type": "code",
   "execution_count": 15,
   "metadata": {},
   "outputs": [
    {
     "name": "stdout",
     "output_type": "stream",
     "text": [
      "[[0. 0. 0. ... 0. 0. 0.]\n",
      " [0. 0. 0. ... 0. 0. 0.]\n",
      " [0. 0. 0. ... 0. 0. 0.]\n",
      " [0. 0. 0. ... 0. 0. 0.]\n",
      " [0. 0. 0. ... 0. 0. 0.]\n",
      " [0. 0. 0. ... 0. 0. 0.]]\n",
      "0.0\n"
     ]
    }
   ],
   "source": [
    "print(wall)\n",
    "print(np.sum(wall))"
   ]
  },
  {
   "cell_type": "code",
   "execution_count": 16,
   "metadata": {},
   "outputs": [],
   "source": [
    "wall[:, 0:104168357] += arr2d"
   ]
  },
  {
   "cell_type": "code",
   "execution_count": 17,
   "metadata": {},
   "outputs": [
    {
     "name": "stdout",
     "output_type": "stream",
     "text": [
      "(6, 104171587)\n",
      "979256.0\n"
     ]
    }
   ],
   "source": [
    "print(wall.shape)\n",
    "print(np.sum(wall))"
   ]
  },
  {
   "cell_type": "code",
   "execution_count": 18,
   "metadata": {},
   "outputs": [],
   "source": [
    "wall2d= np.reshape(wall, (21138,-1))"
   ]
  },
  {
   "cell_type": "code",
   "execution_count": 19,
   "metadata": {},
   "outputs": [
    {
     "name": "stdout",
     "output_type": "stream",
     "text": [
      "(21138, 29569)\n",
      "979256.0\n"
     ]
    }
   ],
   "source": [
    "print(wall2d.shape)\n",
    "print(np.sum(wall2d))"
   ]
  },
  {
   "cell_type": "code",
   "execution_count": 20,
   "metadata": {},
   "outputs": [
    {
     "name": "stdout",
     "output_type": "stream",
     "text": [
      "concatenate column wise\n",
      "[[ 9.46020009e-04 -8.43549967e-02  1.99939996e-01 ...  0.00000000e+00\n",
      "   0.00000000e+00  0.00000000e+00]\n",
      " [ 5.74660003e-02  1.78900003e-01 -6.27780020e-01 ...  0.00000000e+00\n",
      "   0.00000000e+00  0.00000000e+00]\n",
      " [-5.23090005e-01 -6.80260003e-01 -4.60720003e-01 ...  0.00000000e+00\n",
      "   0.00000000e+00  0.00000000e+00]\n",
      " ...\n",
      " [ 5.66299975e-01  2.52869993e-01 -1.13730001e+00 ...  0.00000000e+00\n",
      "   0.00000000e+00  0.00000000e+00]\n",
      " [ 3.43626499e-01  9.23569947e-02 -6.97335005e-01 ...  0.00000000e+00\n",
      "   0.00000000e+00  0.00000000e+00]\n",
      " [ 1.03569999e-01  5.42859972e-01 -8.81929994e-01 ...  0.00000000e+00\n",
      "   0.00000000e+00  0.00000000e+00]]\n"
     ]
    }
   ],
   "source": [
    "print(\"concatenate column wise\")\n",
    "concat = np.concatenate((X,wall2d),axis=1)\n",
    "print(concat)"
   ]
  },
  {
   "cell_type": "code",
   "execution_count": 21,
   "metadata": {},
   "outputs": [
    {
     "name": "stdout",
     "output_type": "stream",
     "text": [
      "(21138, 29594)\n"
     ]
    }
   ],
   "source": [
    "print(concat.shape)"
   ]
  },
  {
   "cell_type": "code",
   "execution_count": 22,
   "metadata": {},
   "outputs": [
    {
     "data": {
      "text/plain": [
       "array(['ArtOrDet', 'Nn', 'Prep', 'SVA', 'Vform', 'Vt', 'Wform'],\n",
       "      dtype='<U8')"
      ]
     },
     "execution_count": 22,
     "metadata": {},
     "output_type": "execute_result"
    }
   ],
   "source": [
    "# Encode the target vector in binary \n",
    "\n",
    "from sklearn import preprocessing\n",
    "lb = preprocessing.LabelBinarizer()\n",
    "ybin = lb.fit(targets)\n",
    "lb.classes_"
   ]
  },
  {
   "cell_type": "code",
   "execution_count": 23,
   "metadata": {},
   "outputs": [
    {
     "name": "stdout",
     "output_type": "stream",
     "text": [
      "[[0 0 0 ... 0 1 0]\n",
      " [0 0 0 ... 0 1 0]\n",
      " [0 0 0 ... 0 1 0]\n",
      " ...\n",
      " [0 0 0 ... 0 0 1]\n",
      " [0 0 0 ... 0 0 1]\n",
      " [0 0 0 ... 0 0 1]]\n",
      "(21138, 7)\n"
     ]
    }
   ],
   "source": [
    "y = lb.transform(targets)\n",
    "print(y)\n",
    "print(y.shape)"
   ]
  },
  {
   "cell_type": "markdown",
   "metadata": {},
   "source": [
    "## Create training & testing sets"
   ]
  },
  {
   "cell_type": "code",
   "execution_count": 24,
   "metadata": {},
   "outputs": [],
   "source": [
    "from sklearn.model_selection import train_test_split\n",
    "\n",
    "X_train, X_test, y_train, y_test = train_test_split(concat, y, test_size=0.2, random_state=0)"
   ]
  },
  {
   "cell_type": "markdown",
   "metadata": {},
   "source": [
    "## Train the model"
   ]
  },
  {
   "cell_type": "code",
   "execution_count": 28,
   "metadata": {},
   "outputs": [
    {
     "data": {
      "text/plain": [
       "MLPClassifier(activation='relu', alpha=0.0001, batch_size='auto', beta_1=0.9,\n",
       "              beta_2=0.999, early_stopping=False, epsilon=1e-08,\n",
       "              hidden_layer_sizes=(300, 200, 100), learning_rate='constant',\n",
       "              learning_rate_init=0.001, max_fun=15000, max_iter=500,\n",
       "              momentum=0.9, n_iter_no_change=10, nesterovs_momentum=True,\n",
       "              power_t=0.5, random_state=21, shuffle=True, solver='adam',\n",
       "              tol=1e-09, validation_fraction=0.1, verbose=False,\n",
       "              warm_start=False)"
      ]
     },
     "execution_count": 28,
     "metadata": {},
     "output_type": "execute_result"
    }
   ],
   "source": [
    "from sklearn.neural_network import MLPClassifier\n",
    "\n",
    "clf = MLPClassifier(hidden_layer_sizes=(300,200,100), max_iter=500, activation = 'relu', solver='adam', random_state=21, tol=0.000000001)\n",
    "clf.fit(X_train, y_train)"
   ]
  },
  {
   "cell_type": "markdown",
   "metadata": {},
   "source": [
    "## Make predictions"
   ]
  },
  {
   "cell_type": "code",
   "execution_count": 26,
   "metadata": {},
   "outputs": [],
   "source": [
    "y_pred = clf.predict(X_test)"
   ]
  },
  {
   "cell_type": "markdown",
   "metadata": {},
   "source": [
    "## Evaluate the model"
   ]
  },
  {
   "cell_type": "code",
   "execution_count": 27,
   "metadata": {},
   "outputs": [
    {
     "name": "stdout",
     "output_type": "stream",
     "text": [
      "              precision    recall  f1-score   support\n",
      "\n",
      "    ArtOrDet       0.73      0.76      0.74      1319\n",
      "          Nn       0.64      0.49      0.55       760\n",
      "        Prep       0.64      0.40      0.49       496\n",
      "         SVA       0.27      0.18      0.22       300\n",
      "       Vform       0.17      0.06      0.09       266\n",
      "          Vt       0.53      0.37      0.44       654\n",
      "       Wform       0.26      0.29      0.27       433\n",
      "\n",
      "   micro avg       0.57      0.47      0.52      4228\n",
      "   macro avg       0.46      0.36      0.40      4228\n",
      "weighted avg       0.56      0.47      0.51      4228\n",
      " samples avg       0.47      0.47      0.47      4228\n",
      "\n",
      "0.46759697256385996\n"
     ]
    },
    {
     "name": "stderr",
     "output_type": "stream",
     "text": [
      "/opt/miniconda3/envs/tensorflow1/lib/python3.7/site-packages/sklearn/metrics/_classification.py:1272: UndefinedMetricWarning: Precision and F-score are ill-defined and being set to 0.0 in samples with no predicted labels. Use `zero_division` parameter to control this behavior.\n",
      "  _warn_prf(average, modifier, msg_start, len(result))\n"
     ]
    }
   ],
   "source": [
    "from sklearn.metrics import classification_report, confusion_matrix, accuracy_score\n",
    "\n",
    "\n",
    "print(classification_report(y_test,y_pred,target_names=lb.classes_))\n",
    "print(accuracy_score(y_test, y_pred))"
   ]
  }
 ],
 "metadata": {
  "kernelspec": {
   "display_name": "Python 3.7 (tensorflow1)",
   "language": "python",
   "name": "tensorflow1"
  },
  "language_info": {
   "codemirror_mode": {
    "name": "ipython",
    "version": 3
   },
   "file_extension": ".py",
   "mimetype": "text/x-python",
   "name": "python",
   "nbconvert_exporter": "python",
   "pygments_lexer": "ipython3",
   "version": "3.7.7"
  }
 },
 "nbformat": 4,
 "nbformat_minor": 4
}
