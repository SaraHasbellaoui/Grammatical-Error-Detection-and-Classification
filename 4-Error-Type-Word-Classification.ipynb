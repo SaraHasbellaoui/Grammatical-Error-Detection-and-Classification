{
 "cells": [
  {
   "cell_type": "code",
   "execution_count": 1,
   "metadata": {},
   "outputs": [],
   "source": [
    "# Extract error types from: \"conll14st-preprocessed.conll.ann\" file\n",
    "# Separate each word of a particular error type in its own list.\n",
    "l1=[]\n",
    "l4=[]\n",
    "l5=[]\n",
    "l6=[]\n",
    "l7=[]\n",
    "l11=[]\n",
    "l14=[]\n",
    "def extract_err_type(colnn_ann):\n",
    "    f = open(colnn_ann, 'r')\n",
    "    for line in f:\n",
    "        parts = line.split()\n",
    "        if(len(parts)>0):\n",
    "            if(line[0:6]==\"<TYPE>\"):\n",
    "                type_ = line[6:len(parts[0])-7]\n",
    "            elif(line[0:12]==\"<CORRECTION>\"):\n",
    "                corrected_word = line[12:len(line)-14] \n",
    "                if type_ ==\"Vt\":\n",
    "                    l1.append(line[12:len(line)-14])   \n",
    "                if type_ ==\"SVA\":\n",
    "                    l5.append(line[12:len(line)-14])\n",
    "                if type_ ==\"ArtOrDet\":\n",
    "                    l6.append(line[12:len(line)-14])\n",
    "                if type_ ==\"Prep\":\n",
    "                    l11.append(line[12:len(line)-14])\n",
    "    return \"Done\""
   ]
  },
  {
   "cell_type": "code",
   "execution_count": 2,
   "metadata": {},
   "outputs": [
    {
     "data": {
      "text/plain": [
       "'Done'"
      ]
     },
     "execution_count": 2,
     "metadata": {},
     "output_type": "execute_result"
    }
   ],
   "source": [
    "# Pass in to the function, the path to conll14st-preprocessed.conll.ann in your system\n",
    "extract_err_type(\"/Users/highsierra/Tech-Skills/Labortory/ML-Fundamentals/error_types_conll14/conll14st-preprocessed.conll.ann\")"
   ]
  },
  {
   "cell_type": "code",
   "execution_count": 3,
   "metadata": {},
   "outputs": [],
   "source": [
    "# Create a corresponding list containing the error type of each word\n",
    "# Map between each word and its error type\n",
    "ll1=[]\n",
    "for i in range(len(l1)):\n",
    "    ll1.append('Vt')\n",
    "\n",
    "ll5=[]\n",
    "for i in range(len(l5)):\n",
    "    ll5.append('SVA')\n",
    "\n",
    "ll6=[]\n",
    "for i in range(len(l6)):\n",
    "    ll6.append('ArtOrDet')\n",
    "\n",
    "ll11=[]\n",
    "for i in range(len(l11)):\n",
    "    ll11.append('Prep')\n"
   ]
  },
  {
   "cell_type": "code",
   "execution_count": 4,
   "metadata": {},
   "outputs": [],
   "source": [
    "# Separate the words (input) from the error types (target)\n",
    "import itertools\n",
    "\n",
    "targets = list(itertools.chain(ll1, ll5, ll6, ll11))\n",
    "words = list(itertools.chain(l1, l5, l6, l11))"
   ]
  },
  {
   "cell_type": "code",
   "execution_count": 5,
   "metadata": {},
   "outputs": [
    {
     "name": "stdout",
     "output_type": "stream",
     "text": [
      "10342\n"
     ]
    }
   ],
   "source": [
    "import re\n",
    "\n",
    "\n",
    "with open(\"/Users/highsierra/conll14st-preprocessed.m2\") as f:\n",
    "    lines = f.read()\n",
    "tests = lines.split(\"\\n\\n\")\n",
    "\n",
    "documents = []\n",
    "doc = []\n",
    "\n",
    "for sen in range(0, len(tests)):\n",
    "    if re.search(\"Vt\", str(tests[sen])) or re.search(\"SVA\", str(tests[sen])) or re.search(\"ArtOrDet\", str(tests[sen])) or re.search(\"Prep\", str(tests[sen])):\n",
    "        documents.append(str(tests[sen]))\n",
    "        doc += str(tests[sen]).split(\".\\n\")\n",
    "\n",
    "cln = []\n",
    "for k in range(0, len(doc)):\n",
    "    if doc[k][0] == 'S':\n",
    "        cln.append(doc[k])\n",
    "\n",
    "flip = []\n",
    "for sen in range(0, len(cln)):\n",
    "    # Remove all the special characters\n",
    "    err = re.sub(r\"[^a-zA-Z/'/]\", ' ', str(cln[sen]))\n",
    "\n",
    "    # Substituting multiple spaces with single space\n",
    "    err = re.sub(r'\\s+', ' ', err, flags=re.I)\n",
    "\n",
    "    # Removing prefixed 'S' and ending with 'n'\n",
    "    err = re.sub(r\"^S\", '', err)\n",
    "    err = re.sub(r\"\\.\\n\", '', err)\n",
    "\n",
    "    # Removing trailling space\n",
    "    err = re.sub(r'^\\s', '', err, flags=re.I)\n",
    "    err = re.sub(r'\\s$', '', err, flags=re.I)\n",
    "\n",
    "    flip.append(err)\n",
    "    #print(errSen)\n",
    "print(len(flip))\n",
    " \n",
    "\n",
    "\n"
   ]
  },
  {
   "cell_type": "code",
   "execution_count": 6,
   "metadata": {},
   "outputs": [
    {
     "name": "stdout",
     "output_type": "stream",
     "text": [
      "(125743, 4)\n"
     ]
    }
   ],
   "source": [
    "import spacy\n",
    "import numpy as np\n",
    "\n",
    "nlp = spacy.load(\"en_core_web_sm\")\n",
    "l1=[]\n",
    "l2=[]\n",
    "\n",
    "for text in flip:\n",
    "    doc = nlp(text)\n",
    "    l1 = list([token.text, token.pos_, token.tag_, token.dep_] for token in doc if token.text in words)\n",
    "    #lst3 = [value for value in words if value in lst] \n",
    "    l2.extend(l1)\n",
    "    arr = np.array(l2)\n",
    "\n",
    "print(arr.shape)\n"
   ]
  },
  {
   "cell_type": "code",
   "execution_count": 7,
   "metadata": {},
   "outputs": [
    {
     "name": "stdout",
     "output_type": "stream",
     "text": [
      "(249092, 4)\n"
     ]
    }
   ],
   "source": [
    "import spacy\n",
    "import numpy as np\n",
    "\n",
    "nlp = spacy.load(\"en_core_web_sm\")\n",
    "l1=[]\n",
    "l2=[]\n",
    "\n",
    "for text in flip:\n",
    "    doc = nlp(text)\n",
    "    l1 = list([token.text, token.pos_, token.tag_, token.dep_] for token in doc)\n",
    "    l2.extend(l1)\n",
    "    arrFull = np.array(l2)\n",
    "\n",
    "print(arrFull.shape)"
   ]
  },
  {
   "cell_type": "code",
   "execution_count": 9,
   "metadata": {},
   "outputs": [
    {
     "name": "stdout",
     "output_type": "stream",
     "text": [
      "[[0. 0. 0. ... 0. 0. 0.]\n",
      " [0. 0. 0. ... 0. 0. 0.]\n",
      " [0. 0. 0. ... 0. 0. 0.]\n",
      " ...\n",
      " [0. 0. 0. ... 0. 0. 0.]\n",
      " [0. 0. 0. ... 0. 0. 0.]\n",
      " [0. 0. 0. ... 0. 0. 0.]]\n",
      "(125743, 958)\n"
     ]
    }
   ],
   "source": [
    "from sklearn.compose import ColumnTransformer\n",
    "from sklearn.preprocessing import StandardScaler, OneHotEncoder\n",
    "\n",
    "\n",
    "transformer = ColumnTransformer(transformers=[('cat', OneHotEncoder(), [0, 1, 2, 3])], remainder='passthrough')\n",
    "\n",
    "arr = transformer.fit_transform(arr)\n",
    "print(arr.toarray())\n",
    "print(arr.toarray().shape)"
   ]
  },
  {
   "cell_type": "code",
   "execution_count": 10,
   "metadata": {},
   "outputs": [
    {
     "name": "stdout",
     "output_type": "stream",
     "text": [
      "13772\n"
     ]
    }
   ],
   "source": [
    "print(len(words))"
   ]
  },
  {
   "cell_type": "code",
   "execution_count": 11,
   "metadata": {},
   "outputs": [
    {
     "name": "stderr",
     "output_type": "stream",
     "text": [
      "Using TensorFlow backend.\n"
     ]
    }
   ],
   "source": [
    "# Encode the input using glove embeddings   \n",
    "\n",
    "from zeugma.embeddings import EmbeddingTransformer\n",
    "\n",
    "glove = EmbeddingTransformer('glove') \n",
    "X = glove.transform(words)"
   ]
  },
  {
   "cell_type": "code",
   "execution_count": 12,
   "metadata": {},
   "outputs": [
    {
     "name": "stdout",
     "output_type": "stream",
     "text": [
      "[[ 0.00094602 -0.084355    0.19994    ...  0.27858     0.20168\n",
      "  -0.71859   ]\n",
      " [ 0.057466    0.1789     -0.62778    ... -0.075557    0.24192\n",
      "   0.002247  ]\n",
      " [-0.52309    -0.68026    -0.46072    ...  0.52221     0.70644\n",
      "  -0.25232   ]\n",
      " ...\n",
      " [ 0.32543    -0.089637   -0.14733    ... -0.6175     -0.54592\n",
      "  -0.069893  ]\n",
      " [ 0.32543    -0.089637   -0.14733    ... -0.6175     -0.54592\n",
      "  -0.069893  ]\n",
      " [-0.32929    -0.16037     0.10785    ...  0.021972   -0.73638\n",
      "   0.65277   ]]\n",
      "(13772, 25)\n"
     ]
    }
   ],
   "source": [
    "print(X)\n",
    "print(X.shape)"
   ]
  },
  {
   "cell_type": "code",
   "execution_count": 13,
   "metadata": {},
   "outputs": [
    {
     "name": "stdout",
     "output_type": "stream",
     "text": [
      "float64\n",
      "502972.0\n"
     ]
    }
   ],
   "source": [
    "print(arr.toarray().dtype)\n",
    "print(np.sum(arr))"
   ]
  },
  {
   "cell_type": "code",
   "execution_count": 14,
   "metadata": {},
   "outputs": [
    {
     "name": "stdout",
     "output_type": "stream",
     "text": [
      "[[0. 0. 0. ... 0. 0. 0.]\n",
      " [0. 0. 0. ... 0. 0. 0.]]\n",
      "(2, 60230897)\n",
      "502972.0\n"
     ]
    }
   ],
   "source": [
    "arr2d= np.reshape(arr, (2, -1))\n",
    "print(arr2d.toarray())\n",
    "print(arr2d.shape)\n",
    "print(np.sum(arr2d)) "
   ]
  },
  {
   "cell_type": "code",
   "execution_count": 15,
   "metadata": {},
   "outputs": [],
   "source": [
    "wall = np.zeros((2,120456798),dtype=np.float64)"
   ]
  },
  {
   "cell_type": "code",
   "execution_count": 16,
   "metadata": {},
   "outputs": [
    {
     "name": "stdout",
     "output_type": "stream",
     "text": [
      "[[0. 0. 0. ... 0. 0. 0.]\n",
      " [0. 0. 0. ... 0. 0. 0.]]\n",
      "0.0\n"
     ]
    }
   ],
   "source": [
    "print(wall)\n",
    "print(np.sum(wall))"
   ]
  },
  {
   "cell_type": "code",
   "execution_count": 17,
   "metadata": {},
   "outputs": [],
   "source": [
    "wall[:, 0:60230897] += arr2d"
   ]
  },
  {
   "cell_type": "code",
   "execution_count": 18,
   "metadata": {},
   "outputs": [
    {
     "name": "stdout",
     "output_type": "stream",
     "text": [
      "(2, 120456798)\n",
      "502972.0\n"
     ]
    }
   ],
   "source": [
    "print(wall.shape)\n",
    "print(np.sum(wall))"
   ]
  },
  {
   "cell_type": "code",
   "execution_count": 19,
   "metadata": {},
   "outputs": [],
   "source": [
    "wall2d= np.reshape(wall, (13772,-1))"
   ]
  },
  {
   "cell_type": "code",
   "execution_count": 20,
   "metadata": {},
   "outputs": [
    {
     "name": "stdout",
     "output_type": "stream",
     "text": [
      "(13772, 17493)\n",
      "502972.0\n"
     ]
    }
   ],
   "source": [
    "print(wall2d.shape)\n",
    "print(np.sum(wall2d))"
   ]
  },
  {
   "cell_type": "code",
   "execution_count": 21,
   "metadata": {},
   "outputs": [
    {
     "name": "stdout",
     "output_type": "stream",
     "text": [
      "concatenate column wise\n",
      "[[ 0.00094602 -0.084355    0.19994    ...  0.          0.\n",
      "   0.        ]\n",
      " [ 0.057466    0.1789     -0.62778002 ...  0.          0.\n",
      "   0.        ]\n",
      " [-0.52309    -0.68026    -0.46072    ...  0.          0.\n",
      "   0.        ]\n",
      " ...\n",
      " [ 0.32543001 -0.089637   -0.14733    ...  0.          0.\n",
      "   0.        ]\n",
      " [ 0.32543001 -0.089637   -0.14733    ...  0.          0.\n",
      "   0.        ]\n",
      " [-0.32929    -0.16037001  0.10785    ...  0.          0.\n",
      "   0.        ]]\n"
     ]
    }
   ],
   "source": [
    "print(\"concatenate column wise\")\n",
    "concat = np.concatenate((X,wall2d),axis=1)\n",
    "print(concat)"
   ]
  },
  {
   "cell_type": "code",
   "execution_count": 22,
   "metadata": {},
   "outputs": [
    {
     "name": "stdout",
     "output_type": "stream",
     "text": [
      "(13772, 17518)\n"
     ]
    }
   ],
   "source": [
    "print(concat.shape)"
   ]
  },
  {
   "cell_type": "code",
   "execution_count": 23,
   "metadata": {},
   "outputs": [
    {
     "data": {
      "text/plain": [
       "array(['ArtOrDet', 'Prep', 'SVA', 'Vt'], dtype='<U8')"
      ]
     },
     "execution_count": 23,
     "metadata": {},
     "output_type": "execute_result"
    }
   ],
   "source": [
    "# Encode the target vector in binary \n",
    "\n",
    "from sklearn import preprocessing\n",
    "lb = preprocessing.LabelBinarizer()\n",
    "ybin = lb.fit(targets)\n",
    "lb.classes_"
   ]
  },
  {
   "cell_type": "code",
   "execution_count": 24,
   "metadata": {},
   "outputs": [
    {
     "name": "stdout",
     "output_type": "stream",
     "text": [
      "[[0 0 0 1]\n",
      " [0 0 0 1]\n",
      " [0 0 0 1]\n",
      " ...\n",
      " [0 1 0 0]\n",
      " [0 1 0 0]\n",
      " [0 1 0 0]]\n",
      "(13772, 4)\n"
     ]
    }
   ],
   "source": [
    "y = lb.transform(targets)\n",
    "print(y)\n",
    "print(y.shape)"
   ]
  },
  {
   "cell_type": "markdown",
   "metadata": {},
   "source": [
    "### Random Forrest with added features"
   ]
  },
  {
   "cell_type": "code",
   "execution_count": 25,
   "metadata": {},
   "outputs": [],
   "source": [
    "from sklearn.model_selection import train_test_split\n",
    "\n",
    "X_train, X_test, y_train, y_test = train_test_split(concat, y, test_size=0.2, random_state=0)"
   ]
  },
  {
   "cell_type": "code",
   "execution_count": 26,
   "metadata": {},
   "outputs": [
    {
     "data": {
      "text/plain": [
       "RandomForestClassifier(bootstrap=True, ccp_alpha=0.0, class_weight=None,\n",
       "                       criterion='gini', max_depth=None, max_features=20,\n",
       "                       max_leaf_nodes=None, max_samples=None,\n",
       "                       min_impurity_decrease=0.0, min_impurity_split=None,\n",
       "                       min_samples_leaf=1, min_samples_split=2,\n",
       "                       min_weight_fraction_leaf=0.0, n_estimators=200,\n",
       "                       n_jobs=None, oob_score=False, random_state=0, verbose=0,\n",
       "                       warm_start=False)"
      ]
     },
     "execution_count": 26,
     "metadata": {},
     "output_type": "execute_result"
    }
   ],
   "source": [
    "from sklearn.ensemble import RandomForestClassifier\n",
    "\n",
    "classifier = RandomForestClassifier(max_features=20, n_estimators=200, random_state=0)\n",
    "classifier.fit(X_train, y_train)"
   ]
  },
  {
   "cell_type": "code",
   "execution_count": 27,
   "metadata": {},
   "outputs": [],
   "source": [
    "y_pred = classifier.predict(X_test)"
   ]
  },
  {
   "cell_type": "code",
   "execution_count": 29,
   "metadata": {},
   "outputs": [
    {
     "name": "stdout",
     "output_type": "stream",
     "text": [
      "              precision    recall  f1-score   support\n",
      "\n",
      "    ArtOrDet       0.86      0.96      0.91      1333\n",
      "        Prep       0.97      0.68      0.80       525\n",
      "         SVA       0.69      0.87      0.77       288\n",
      "          Vt       0.99      0.13      0.23       609\n",
      "\n",
      "   micro avg       0.85      0.71      0.78      2755\n",
      "   macro avg       0.88      0.66      0.68      2755\n",
      "weighted avg       0.89      0.71      0.72      2755\n",
      " samples avg       0.71      0.71      0.71      2755\n",
      "\n",
      "0.7125226860254084\n"
     ]
    },
    {
     "name": "stderr",
     "output_type": "stream",
     "text": [
      "/opt/miniconda3/envs/tensorflow1/lib/python3.7/site-packages/sklearn/metrics/_classification.py:1272: UndefinedMetricWarning: Precision and F-score are ill-defined and being set to 0.0 in samples with no predicted labels. Use `zero_division` parameter to control this behavior.\n",
      "  _warn_prf(average, modifier, msg_start, len(result))\n"
     ]
    }
   ],
   "source": [
    "from sklearn.metrics import classification_report, confusion_matrix, accuracy_score\n",
    "\n",
    "\n",
    "print(classification_report(y_test,y_pred,target_names=lb.classes_))\n",
    "print(accuracy_score(y_test, y_pred))"
   ]
  },
  {
   "cell_type": "markdown",
   "metadata": {},
   "source": [
    "### MLP with 4 hidden layers & added features"
   ]
  },
  {
   "cell_type": "code",
   "execution_count": 30,
   "metadata": {},
   "outputs": [
    {
     "data": {
      "text/plain": [
       "MLPClassifier(activation='relu', alpha=0.0001, batch_size='auto', beta_1=0.9,\n",
       "              beta_2=0.999, early_stopping=False, epsilon=1e-08,\n",
       "              hidden_layer_sizes=(300, 200, 200, 100), learning_rate='constant',\n",
       "              learning_rate_init=0.001, max_fun=15000, max_iter=500,\n",
       "              momentum=0.9, n_iter_no_change=10, nesterovs_momentum=True,\n",
       "              power_t=0.5, random_state=21, shuffle=True, solver='adam',\n",
       "              tol=1e-09, validation_fraction=0.1, verbose=False,\n",
       "              warm_start=False)"
      ]
     },
     "execution_count": 30,
     "metadata": {},
     "output_type": "execute_result"
    }
   ],
   "source": [
    "from sklearn.neural_network import MLPClassifier\n",
    "\n",
    "clf = MLPClassifier(hidden_layer_sizes=(300,200,200,100), max_iter=500, activation = 'relu', solver='adam', random_state=21, tol=0.000000001)\n",
    "clf.fit(X_train, y_train)"
   ]
  },
  {
   "cell_type": "code",
   "execution_count": 31,
   "metadata": {},
   "outputs": [],
   "source": [
    "y_pred = clf.predict(X_test)"
   ]
  },
  {
   "cell_type": "code",
   "execution_count": 32,
   "metadata": {},
   "outputs": [
    {
     "name": "stdout",
     "output_type": "stream",
     "text": [
      "              precision    recall  f1-score   support\n",
      "\n",
      "    ArtOrDet       0.81      0.93      0.87      1333\n",
      "        Prep       0.98      0.68      0.80       525\n",
      "         SVA       0.88      0.79      0.83       288\n",
      "          Vt       0.80      0.82      0.81       609\n",
      "\n",
      "   micro avg       0.84      0.84      0.84      2755\n",
      "   macro avg       0.87      0.80      0.83      2755\n",
      "weighted avg       0.85      0.84      0.84      2755\n",
      " samples avg       0.84      0.84      0.84      2755\n",
      "\n",
      "0.8377495462794918\n"
     ]
    },
    {
     "name": "stderr",
     "output_type": "stream",
     "text": [
      "/opt/miniconda3/envs/tensorflow1/lib/python3.7/site-packages/sklearn/metrics/_classification.py:1272: UndefinedMetricWarning: Precision and F-score are ill-defined and being set to 0.0 in samples with no predicted labels. Use `zero_division` parameter to control this behavior.\n",
      "  _warn_prf(average, modifier, msg_start, len(result))\n"
     ]
    }
   ],
   "source": [
    "from sklearn.metrics import classification_report, confusion_matrix, accuracy_score\n",
    "\n",
    "\n",
    "print(classification_report(y_test,y_pred,target_names=lb.classes_))\n",
    "print(accuracy_score(y_test, y_pred))"
   ]
  },
  {
   "cell_type": "code",
   "execution_count": 33,
   "metadata": {},
   "outputs": [
    {
     "name": "stdout",
     "output_type": "stream",
     "text": [
      "[[0 0 0 1]\n",
      " [0 0 0 1]\n",
      " [0 0 0 1]\n",
      " ...\n",
      " [0 1 0 0]\n",
      " [0 1 0 0]\n",
      " [0 1 0 0]]\n",
      "(13772, 4)\n"
     ]
    }
   ],
   "source": [
    "print(y)\n",
    "print(y.shape)"
   ]
  },
  {
   "cell_type": "code",
   "execution_count": 34,
   "metadata": {},
   "outputs": [
    {
     "name": "stdout",
     "output_type": "stream",
     "text": [
      "[[ 0.00094602 -0.084355    0.19994    ...  0.27858     0.20168\n",
      "  -0.71859   ]\n",
      " [ 0.057466    0.1789     -0.62778    ... -0.075557    0.24192\n",
      "   0.002247  ]\n",
      " [-0.52309    -0.68026    -0.46072    ...  0.52221     0.70644\n",
      "  -0.25232   ]\n",
      " ...\n",
      " [ 0.32543    -0.089637   -0.14733    ... -0.6175     -0.54592\n",
      "  -0.069893  ]\n",
      " [ 0.32543    -0.089637   -0.14733    ... -0.6175     -0.54592\n",
      "  -0.069893  ]\n",
      " [-0.32929    -0.16037     0.10785    ...  0.021972   -0.73638\n",
      "   0.65277   ]]\n",
      "(13772, 25)\n"
     ]
    }
   ],
   "source": [
    "print(X)\n",
    "print(X.shape)"
   ]
  },
  {
   "cell_type": "markdown",
   "metadata": {},
   "source": [
    "### MLP with 4 hidden layers & No added features"
   ]
  },
  {
   "cell_type": "code",
   "execution_count": 39,
   "metadata": {},
   "outputs": [],
   "source": [
    "from sklearn.model_selection import train_test_split\n",
    "\n",
    "X_train, X_test, y_train, y_test = train_test_split(X, y, test_size=0.2, random_state=0)"
   ]
  },
  {
   "cell_type": "code",
   "execution_count": 40,
   "metadata": {},
   "outputs": [
    {
     "data": {
      "text/plain": [
       "MLPClassifier(activation='relu', alpha=0.0001, batch_size='auto', beta_1=0.9,\n",
       "              beta_2=0.999, early_stopping=False, epsilon=1e-08,\n",
       "              hidden_layer_sizes=(300, 200, 200, 100), learning_rate='constant',\n",
       "              learning_rate_init=0.001, max_fun=15000, max_iter=500,\n",
       "              momentum=0.9, n_iter_no_change=10, nesterovs_momentum=True,\n",
       "              power_t=0.5, random_state=21, shuffle=True, solver='adam',\n",
       "              tol=1e-09, validation_fraction=0.1, verbose=False,\n",
       "              warm_start=False)"
      ]
     },
     "execution_count": 40,
     "metadata": {},
     "output_type": "execute_result"
    }
   ],
   "source": [
    "from sklearn.neural_network import MLPClassifier\n",
    "\n",
    "clf = MLPClassifier(hidden_layer_sizes=(300,200,200,100), max_iter=500, activation = 'relu', solver='adam', random_state=21, tol=0.000000001)\n",
    "clf.fit(X_train, y_train)"
   ]
  },
  {
   "cell_type": "code",
   "execution_count": 41,
   "metadata": {},
   "outputs": [],
   "source": [
    "y_pred = clf.predict(X_test)"
   ]
  },
  {
   "cell_type": "code",
   "execution_count": 42,
   "metadata": {},
   "outputs": [
    {
     "name": "stdout",
     "output_type": "stream",
     "text": [
      "              precision    recall  f1-score   support\n",
      "\n",
      "    ArtOrDet       0.85      0.98      0.91      1333\n",
      "        Prep       0.96      0.68      0.80       525\n",
      "         SVA       0.61      0.58      0.60       288\n",
      "          Vt       0.79      0.74      0.76       609\n",
      "\n",
      "   micro avg       0.83      0.83      0.83      2755\n",
      "   macro avg       0.81      0.75      0.77      2755\n",
      "weighted avg       0.84      0.83      0.82      2755\n",
      " samples avg       0.83      0.83      0.83      2755\n",
      "\n",
      "0.8275862068965517\n"
     ]
    },
    {
     "name": "stderr",
     "output_type": "stream",
     "text": [
      "/opt/miniconda3/envs/tensorflow1/lib/python3.7/site-packages/sklearn/metrics/_classification.py:1272: UndefinedMetricWarning: Precision and F-score are ill-defined and being set to 0.0 in samples with no predicted labels. Use `zero_division` parameter to control this behavior.\n",
      "  _warn_prf(average, modifier, msg_start, len(result))\n"
     ]
    }
   ],
   "source": [
    "from sklearn.metrics import classification_report, confusion_matrix, accuracy_score\n",
    "\n",
    "\n",
    "print(classification_report(y_test,y_pred,target_names=lb.classes_))\n",
    "print(accuracy_score(y_test, y_pred))"
   ]
  },
  {
   "cell_type": "markdown",
   "metadata": {},
   "source": [
    "### MLP with 3 hidden layers "
   ]
  },
  {
   "cell_type": "code",
   "execution_count": 36,
   "metadata": {},
   "outputs": [
    {
     "data": {
      "text/plain": [
       "MLPClassifier(activation='relu', alpha=0.0001, batch_size='auto', beta_1=0.9,\n",
       "              beta_2=0.999, early_stopping=False, epsilon=1e-08,\n",
       "              hidden_layer_sizes=(300, 200, 100), learning_rate='constant',\n",
       "              learning_rate_init=0.001, max_fun=15000, max_iter=500,\n",
       "              momentum=0.9, n_iter_no_change=10, nesterovs_momentum=True,\n",
       "              power_t=0.5, random_state=21, shuffle=True, solver='adam',\n",
       "              tol=1e-09, validation_fraction=0.1, verbose=False,\n",
       "              warm_start=False)"
      ]
     },
     "execution_count": 36,
     "metadata": {},
     "output_type": "execute_result"
    }
   ],
   "source": [
    "from sklearn.neural_network import MLPClassifier\n",
    "\n",
    "clf = MLPClassifier(hidden_layer_sizes=(300,200,100), max_iter=500, activation = 'relu', solver='adam', random_state=21, tol=0.000000001)\n",
    "clf.fit(X_train, y_train) "
   ]
  },
  {
   "cell_type": "code",
   "execution_count": 37,
   "metadata": {},
   "outputs": [],
   "source": [
    "y_pred = clf.predict(X_test)"
   ]
  },
  {
   "cell_type": "code",
   "execution_count": 38,
   "metadata": {},
   "outputs": [
    {
     "name": "stdout",
     "output_type": "stream",
     "text": [
      "              precision    recall  f1-score   support\n",
      "\n",
      "    ArtOrDet       0.86      0.98      0.92      1333\n",
      "        Prep       0.97      0.68      0.80       525\n",
      "         SVA       0.63      0.45      0.53       288\n",
      "          Vt       0.79      0.74      0.76       609\n",
      "\n",
      "   micro avg       0.84      0.82      0.83      2755\n",
      "   macro avg       0.81      0.71      0.75      2755\n",
      "weighted avg       0.84      0.82      0.82      2755\n",
      " samples avg       0.82      0.82      0.82      2755\n",
      "\n",
      "0.8156079854809437\n"
     ]
    },
    {
     "name": "stderr",
     "output_type": "stream",
     "text": [
      "/opt/miniconda3/envs/tensorflow1/lib/python3.7/site-packages/sklearn/metrics/_classification.py:1272: UndefinedMetricWarning: Precision and F-score are ill-defined and being set to 0.0 in samples with no predicted labels. Use `zero_division` parameter to control this behavior.\n",
      "  _warn_prf(average, modifier, msg_start, len(result))\n"
     ]
    }
   ],
   "source": [
    "from sklearn.metrics import classification_report, confusion_matrix, accuracy_score\n",
    "\n",
    "\n",
    "print(classification_report(y_test,y_pred,target_names=lb.classes_))\n",
    "print(accuracy_score(y_test, y_pred))"
   ]
  }
 ],
 "metadata": {
  "kernelspec": {
   "display_name": "Python 3.7 (tensorflow1)",
   "language": "python",
   "name": "tensorflow1"
  },
  "language_info": {
   "codemirror_mode": {
    "name": "ipython",
    "version": 3
   },
   "file_extension": ".py",
   "mimetype": "text/x-python",
   "name": "python",
   "nbconvert_exporter": "python",
   "pygments_lexer": "ipython3",
   "version": "3.7.7"
  }
 },
 "nbformat": 4,
 "nbformat_minor": 4
}
